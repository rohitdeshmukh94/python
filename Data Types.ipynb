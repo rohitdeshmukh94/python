{
 "cells": [
  {
   "cell_type": "markdown",
   "metadata": {},
   "source": [
    "# Data Types in Python"
   ]
  },
  {
   "cell_type": "raw",
   "metadata": {},
   "source": [
    "\n",
    "Dnyamically typed language>> We do not need to define the type of variable"
   ]
  },
  {
   "cell_type": "code",
   "execution_count": null,
   "metadata": {},
   "outputs": [],
   "source": [
    "Numerical : int,float, complex\n",
    "\n",
    "Text :      str\n",
    "     \n",
    "Sequence:   list, tuple, range\n",
    "    \n",
    "Mapping:    dict\n",
    "    \n",
    "set_Types:  set, frozenset\n",
    "    \n",
    "Boolean Types:  True, False\n",
    "    \n",
    "Binary: bytes, bytearray"
   ]
  },
  {
   "cell_type": "markdown",
   "metadata": {},
   "source": [
    "# int Data Type"
   ]
  },
  {
   "cell_type": "code",
   "execution_count": null,
   "metadata": {},
   "outputs": [],
   "source": [
    "Whole Number\n",
    "+ve and -ve\n",
    "Whithout Decimal\n"
   ]
  },
  {
   "cell_type": "code",
   "execution_count": 1,
   "metadata": {},
   "outputs": [
    {
     "name": "stdout",
     "output_type": "stream",
     "text": [
      "<class 'int'>\n"
     ]
    }
   ],
   "source": [
    "a = 20\n",
    "print(type(a))"
   ]
  },
  {
   "cell_type": "code",
   "execution_count": 2,
   "metadata": {},
   "outputs": [
    {
     "name": "stdout",
     "output_type": "stream",
     "text": [
      "<class 'int'>\n"
     ]
    }
   ],
   "source": [
    "a = -20\n",
    "print(type(a))"
   ]
  },
  {
   "cell_type": "markdown",
   "metadata": {},
   "source": [
    "# Float Data Type"
   ]
  },
  {
   "cell_type": "raw",
   "metadata": {},
   "source": [
    "+ve or -ve\n",
    "With decimal point \n",
    "\n",
    "12.34"
   ]
  },
  {
   "cell_type": "code",
   "execution_count": 4,
   "metadata": {},
   "outputs": [
    {
     "name": "stdout",
     "output_type": "stream",
     "text": [
      "Value of x is -12.34 and Data type of x : <class 'float'>\n"
     ]
    }
   ],
   "source": [
    "x = -12.34\n",
    "print(f'Value of x is {x} and Data type of x : {type(x)}')"
   ]
  },
  {
   "cell_type": "code",
   "execution_count": 5,
   "metadata": {},
   "outputs": [
    {
     "name": "stdout",
     "output_type": "stream",
     "text": [
      "Value of x is -12.34 and Data type of x : <class 'float'>\n"
     ]
    }
   ],
   "source": [
    "x = -12.34\n",
    "print('Value of x is {} and Data type of x : {}'.format(x,type(x)))"
   ]
  },
  {
   "cell_type": "code",
   "execution_count": 7,
   "metadata": {},
   "outputs": [
    {
     "name": "stdout",
     "output_type": "stream",
     "text": [
      "Value of a is 12.0 and Data type of a : <class 'float'>\n"
     ]
    }
   ],
   "source": [
    "a = 10.15\n",
    "a = -23.45\n",
    "a = 12e3  # 12 * 10^3 >> 12000.0\n",
    "a = 12.0\n",
    "print('Value of a is {} and Data type of a : {}'.format(a,type(a)))"
   ]
  },
  {
   "cell_type": "code",
   "execution_count": 9,
   "metadata": {},
   "outputs": [
    {
     "name": "stdout",
     "output_type": "stream",
     "text": [
      "0.00023\n"
     ]
    }
   ],
   "source": [
    "a = 23e-5  # 23 * 10^-5 = 23/100000\n",
    "print(a)"
   ]
  },
  {
   "cell_type": "code",
   "execution_count": 10,
   "metadata": {},
   "outputs": [
    {
     "data": {
      "text/plain": [
       "12.23"
      ]
     },
     "execution_count": 10,
     "metadata": {},
     "output_type": "execute_result"
    }
   ],
   "source": [
    "a = 12.23456789 # 12.23\n",
    "round(a,2)"
   ]
  },
  {
   "cell_type": "code",
   "execution_count": 16,
   "metadata": {},
   "outputs": [
    {
     "name": "stdout",
     "output_type": "stream",
     "text": [
      "12.7897\n"
     ]
    }
   ],
   "source": [
    "a = 12.7896554 # 12.23\n",
    "a = round(a,4)\n",
    "\n",
    "print(a)"
   ]
  },
  {
   "cell_type": "markdown",
   "metadata": {},
   "source": [
    "# Complex Data Type"
   ]
  },
  {
   "cell_type": "markdown",
   "metadata": {},
   "source": [
    "Contain real number and imaginary part"
   ]
  },
  {
   "cell_type": "code",
   "execution_count": 19,
   "metadata": {},
   "outputs": [
    {
     "name": "stdout",
     "output_type": "stream",
     "text": [
      "The value of a is (10+20j) and Type of a is <class 'complex'>\n"
     ]
    }
   ],
   "source": [
    "a = 10 + 20j\n",
    "print(f'The value of a is {a} and Type of a is {type(a)}')"
   ]
  },
  {
   "cell_type": "code",
   "execution_count": 9,
   "metadata": {},
   "outputs": [
    {
     "name": "stdout",
     "output_type": "stream",
     "text": [
      "<class 'str'>\n"
     ]
    },
    {
     "ename": "ValueError",
     "evalue": "invalid literal for int() with base 10: 'khkhk'",
     "output_type": "error",
     "traceback": [
      "\u001b[1;31m---------------------------------------------------------------------------\u001b[0m",
      "\u001b[1;31mValueError\u001b[0m                                Traceback (most recent call last)",
      "\u001b[1;32m<ipython-input-9-e2fa22a1d6ea>\u001b[0m in \u001b[0;36m<module>\u001b[1;34m\u001b[0m\n\u001b[0;32m      1\u001b[0m \u001b[0ma\u001b[0m \u001b[1;33m=\u001b[0m \u001b[1;34m\"khkhk\"\u001b[0m\u001b[1;33m\u001b[0m\u001b[1;33m\u001b[0m\u001b[0m\n\u001b[0;32m      2\u001b[0m \u001b[0mprint\u001b[0m\u001b[1;33m(\u001b[0m\u001b[0mtype\u001b[0m\u001b[1;33m(\u001b[0m\u001b[0ma\u001b[0m\u001b[1;33m)\u001b[0m\u001b[1;33m)\u001b[0m\u001b[1;33m\u001b[0m\u001b[1;33m\u001b[0m\u001b[0m\n\u001b[1;32m----> 3\u001b[1;33m \u001b[0mb\u001b[0m \u001b[1;33m=\u001b[0m \u001b[0mint\u001b[0m\u001b[1;33m(\u001b[0m\u001b[0ma\u001b[0m\u001b[1;33m)\u001b[0m\u001b[1;33m\u001b[0m\u001b[1;33m\u001b[0m\u001b[0m\n\u001b[0m\u001b[0;32m      4\u001b[0m \u001b[0mtype\u001b[0m\u001b[1;33m(\u001b[0m\u001b[0mb\u001b[0m\u001b[1;33m)\u001b[0m\u001b[1;33m\u001b[0m\u001b[1;33m\u001b[0m\u001b[0m\n",
      "\u001b[1;31mValueError\u001b[0m: invalid literal for int() with base 10: 'khkhk'"
     ]
    }
   ],
   "source": [
    "a = \"khkhk\"\n",
    "print(type(a))\n",
    "b = int(a)\n",
    "type(b)"
   ]
  },
  {
   "cell_type": "code",
   "execution_count": 20,
   "metadata": {},
   "outputs": [
    {
     "data": {
      "text/plain": [
       "complex"
      ]
     },
     "execution_count": 20,
     "metadata": {},
     "output_type": "execute_result"
    }
   ],
   "source": [
    "b = 3 + 0j # 3  # Real + imaginary \n",
    "print(type(b)) # Complex\n",
    "\n",
    "a = 20.0       # float\n",
    "type(a)"
   ]
  },
  {
   "cell_type": "markdown",
   "metadata": {},
   "source": [
    "# Python Casting "
   ]
  },
  {
   "cell_type": "raw",
   "metadata": {},
   "source": [
    "Specify variables type\n",
    "change Data type of variables"
   ]
  },
  {
   "cell_type": "raw",
   "metadata": {},
   "source": [
    "\n",
    "int   >> float\n",
    "float >> int\n",
    "int   >> complex\n",
    "float >> complex\n",
    "\n",
    "# We can not convert complex number to int or float\n",
    "complex >> int \n",
    "complex >> float "
   ]
  },
  {
   "cell_type": "markdown",
   "metadata": {},
   "source": [
    "### 1. int to float"
   ]
  },
  {
   "cell_type": "code",
   "execution_count": 23,
   "metadata": {},
   "outputs": [
    {
     "name": "stdout",
     "output_type": "stream",
     "text": [
      "Value of a is 25 and its data type is <class 'int'>\n",
      "Value of a is 25.0 and its data type is <class 'float'>\n"
     ]
    }
   ],
   "source": [
    "a = 25\n",
    "print(f'Value of a is {a} and its data type is {type(a)}')\n",
    "\n",
    "a = float(a)\n",
    "print(f'Value of a is {a} and its data type is {type(a)}')"
   ]
  },
  {
   "cell_type": "code",
   "execution_count": 25,
   "metadata": {},
   "outputs": [
    {
     "name": "stdout",
     "output_type": "stream",
     "text": [
      "Value of a is -100 and its data type is <class 'int'>\n",
      "Value of a is -100.0 and its data type is <class 'float'>\n"
     ]
    }
   ],
   "source": [
    "a = -100\n",
    "print(f'Value of a is {a} and its data type is {type(a)}')\n",
    "\n",
    "a = float(a)\n",
    "print(f'Value of a is {a} and its data type is {type(a)}')"
   ]
  },
  {
   "cell_type": "markdown",
   "metadata": {},
   "source": [
    "### float to int"
   ]
  },
  {
   "cell_type": "code",
   "execution_count": 26,
   "metadata": {},
   "outputs": [
    {
     "name": "stdout",
     "output_type": "stream",
     "text": [
      "Value of a is 30.45 and its data type is <class 'float'>\n",
      "Value of a is 30 and its data type is <class 'int'>\n"
     ]
    }
   ],
   "source": [
    "a = 30.45  \n",
    "print(f'Value of a is {a} and its data type is {type(a)}')\n",
    "\n",
    "a = int(a)  \n",
    "print(f'Value of a is {a} and its data type is {type(a)}')"
   ]
  },
  {
   "cell_type": "code",
   "execution_count": 27,
   "metadata": {},
   "outputs": [
    {
     "name": "stdout",
     "output_type": "stream",
     "text": [
      "Value of a is 30.9999 and its data type is <class 'float'>\n",
      "Value of a is 30 and its data type is <class 'int'>\n"
     ]
    }
   ],
   "source": [
    "a = 30.9999  \n",
    "print(f'Value of a is {a} and its data type is {type(a)}')\n",
    "\n",
    "a = int(a)  \n",
    "print(f'Value of a is {a} and its data type is {type(a)}')"
   ]
  },
  {
   "cell_type": "markdown",
   "metadata": {},
   "source": [
    "### 3. int to complex"
   ]
  },
  {
   "cell_type": "code",
   "execution_count": 29,
   "metadata": {},
   "outputs": [
    {
     "name": "stdout",
     "output_type": "stream",
     "text": [
      "Value of a is 50 and its data type is <class 'int'>\n",
      "Value of a is (50+0j) and its data type is <class 'complex'>\n"
     ]
    }
   ],
   "source": [
    "a = 50\n",
    "print(f'Value of a is {a} and its data type is {type(a)}')\n",
    "\n",
    "a = complex(a)  \n",
    "print(f'Value of a is {a} and its data type is {type(a)}')"
   ]
  },
  {
   "cell_type": "code",
   "execution_count": 30,
   "metadata": {},
   "outputs": [
    {
     "name": "stdout",
     "output_type": "stream",
     "text": [
      "Value of a is -50 and its data type is <class 'int'>\n",
      "Value of a is (-50+0j) and its data type is <class 'complex'>\n"
     ]
    }
   ],
   "source": [
    "a = -50\n",
    "print(f'Value of a is {a} and its data type is {type(a)}')\n",
    "\n",
    "a = complex(a)  \n",
    "print(f'Value of a is {a} and its data type is {type(a)}')"
   ]
  },
  {
   "cell_type": "code",
   "execution_count": 31,
   "metadata": {},
   "outputs": [
    {
     "name": "stdout",
     "output_type": "stream",
     "text": [
      "Value of a is (50+1j) and its data type is <class 'complex'>\n",
      "Value of a is (50+1j) and its data type is <class 'complex'>\n"
     ]
    }
   ],
   "source": [
    "a = 50 + 1j\n",
    "print(f'Value of a is {a} and its data type is {type(a)}')\n",
    "\n",
    "a = complex(a)  \n",
    "print(f'Value of a is {a} and its data type is {type(a)}')"
   ]
  },
  {
   "cell_type": "markdown",
   "metadata": {},
   "source": [
    "### 4.float to complex"
   ]
  },
  {
   "cell_type": "code",
   "execution_count": 33,
   "metadata": {},
   "outputs": [
    {
     "name": "stdout",
     "output_type": "stream",
     "text": [
      "Value of a is 50.45 and its data type is <class 'float'>\n",
      "Value of a is (50.45+0j) and its data type is <class 'complex'>\n"
     ]
    }
   ],
   "source": [
    "a = 50.45\n",
    "print(f'Value of a is {a} and its data type is {type(a)}')\n",
    "\n",
    "a = complex(a)  \n",
    "print(f'Value of a is {a} and its data type is {type(a)}')"
   ]
  },
  {
   "cell_type": "markdown",
   "metadata": {},
   "source": [
    "### 5. complex to int"
   ]
  },
  {
   "cell_type": "code",
   "execution_count": 35,
   "metadata": {},
   "outputs": [
    {
     "name": "stdout",
     "output_type": "stream",
     "text": [
      "Value of a is (5+3j) and its data type is <class 'complex'>\n"
     ]
    },
    {
     "ename": "TypeError",
     "evalue": "can't convert complex to int",
     "output_type": "error",
     "traceback": [
      "\u001b[1;31m---------------------------------------------------------------------------\u001b[0m",
      "\u001b[1;31mTypeError\u001b[0m                                 Traceback (most recent call last)",
      "\u001b[1;32m<ipython-input-35-b08247e24f4f>\u001b[0m in \u001b[0;36m<module>\u001b[1;34m\u001b[0m\n\u001b[0;32m      2\u001b[0m \u001b[0mprint\u001b[0m\u001b[1;33m(\u001b[0m\u001b[1;34mf'Value of a is {a} and its data type is {type(a)}'\u001b[0m\u001b[1;33m)\u001b[0m\u001b[1;33m\u001b[0m\u001b[1;33m\u001b[0m\u001b[0m\n\u001b[0;32m      3\u001b[0m \u001b[1;33m\u001b[0m\u001b[0m\n\u001b[1;32m----> 4\u001b[1;33m \u001b[0ma\u001b[0m \u001b[1;33m=\u001b[0m \u001b[0mint\u001b[0m\u001b[1;33m(\u001b[0m\u001b[0ma\u001b[0m\u001b[1;33m)\u001b[0m\u001b[1;33m\u001b[0m\u001b[1;33m\u001b[0m\u001b[0m\n\u001b[0m\u001b[0;32m      5\u001b[0m \u001b[0mprint\u001b[0m\u001b[1;33m(\u001b[0m\u001b[1;34mf'Value of a is {a} and its data type is {type(a)}'\u001b[0m\u001b[1;33m)\u001b[0m\u001b[1;33m\u001b[0m\u001b[1;33m\u001b[0m\u001b[0m\n",
      "\u001b[1;31mTypeError\u001b[0m: can't convert complex to int"
     ]
    }
   ],
   "source": [
    "a = 5 + 3j\n",
    "print(f'Value of a is {a} and its data type is {type(a)}')\n",
    "\n",
    "a = int(a)  \n",
    "print(f'Value of a is {a} and its data type is {type(a)}')"
   ]
  },
  {
   "cell_type": "code",
   "execution_count": 37,
   "metadata": {},
   "outputs": [
    {
     "name": "stdout",
     "output_type": "stream",
     "text": [
      "Value of a is (5+0j) and its data type is <class 'complex'>\n"
     ]
    },
    {
     "ename": "TypeError",
     "evalue": "can't convert complex to int",
     "output_type": "error",
     "traceback": [
      "\u001b[1;31m---------------------------------------------------------------------------\u001b[0m",
      "\u001b[1;31mTypeError\u001b[0m                                 Traceback (most recent call last)",
      "\u001b[1;32m<ipython-input-37-dcf9247bcd02>\u001b[0m in \u001b[0;36m<module>\u001b[1;34m\u001b[0m\n\u001b[0;32m      2\u001b[0m \u001b[0mprint\u001b[0m\u001b[1;33m(\u001b[0m\u001b[1;34mf'Value of a is {a} and its data type is {type(a)}'\u001b[0m\u001b[1;33m)\u001b[0m\u001b[1;33m\u001b[0m\u001b[1;33m\u001b[0m\u001b[0m\n\u001b[0;32m      3\u001b[0m \u001b[1;33m\u001b[0m\u001b[0m\n\u001b[1;32m----> 4\u001b[1;33m \u001b[0ma\u001b[0m \u001b[1;33m=\u001b[0m \u001b[0mint\u001b[0m\u001b[1;33m(\u001b[0m\u001b[0ma\u001b[0m\u001b[1;33m)\u001b[0m\u001b[1;33m\u001b[0m\u001b[1;33m\u001b[0m\u001b[0m\n\u001b[0m\u001b[0;32m      5\u001b[0m \u001b[0mprint\u001b[0m\u001b[1;33m(\u001b[0m\u001b[1;34mf'Value of a is {a} and its data type is {type(a)}'\u001b[0m\u001b[1;33m)\u001b[0m\u001b[1;33m\u001b[0m\u001b[1;33m\u001b[0m\u001b[0m\n",
      "\u001b[1;31mTypeError\u001b[0m: can't convert complex to int"
     ]
    }
   ],
   "source": [
    "a = 5 + 0j  \n",
    "print(f'Value of a is {a} and its data type is {type(a)}')\n",
    "\n",
    "a = int(a)  \n",
    "print(f'Value of a is {a} and its data type is {type(a)}')"
   ]
  },
  {
   "cell_type": "markdown",
   "metadata": {},
   "source": [
    "### 6. Complex to Float"
   ]
  },
  {
   "cell_type": "code",
   "execution_count": 39,
   "metadata": {},
   "outputs": [
    {
     "name": "stdout",
     "output_type": "stream",
     "text": [
      "Value of a is (5.45+3j) and its data type is <class 'complex'>\n"
     ]
    },
    {
     "ename": "TypeError",
     "evalue": "can't convert complex to float",
     "output_type": "error",
     "traceback": [
      "\u001b[1;31m---------------------------------------------------------------------------\u001b[0m",
      "\u001b[1;31mTypeError\u001b[0m                                 Traceback (most recent call last)",
      "\u001b[1;32m<ipython-input-39-a53267bcae43>\u001b[0m in \u001b[0;36m<module>\u001b[1;34m\u001b[0m\n\u001b[0;32m      2\u001b[0m \u001b[0mprint\u001b[0m\u001b[1;33m(\u001b[0m\u001b[1;34mf'Value of a is {a} and its data type is {type(a)}'\u001b[0m\u001b[1;33m)\u001b[0m\u001b[1;33m\u001b[0m\u001b[1;33m\u001b[0m\u001b[0m\n\u001b[0;32m      3\u001b[0m \u001b[1;33m\u001b[0m\u001b[0m\n\u001b[1;32m----> 4\u001b[1;33m \u001b[0ma\u001b[0m \u001b[1;33m=\u001b[0m \u001b[0mfloat\u001b[0m\u001b[1;33m(\u001b[0m\u001b[0ma\u001b[0m\u001b[1;33m)\u001b[0m\u001b[1;33m\u001b[0m\u001b[1;33m\u001b[0m\u001b[0m\n\u001b[0m\u001b[0;32m      5\u001b[0m \u001b[0mprint\u001b[0m\u001b[1;33m(\u001b[0m\u001b[1;34mf'Value of a is {a} and its data type is {type(a)}'\u001b[0m\u001b[1;33m)\u001b[0m\u001b[1;33m\u001b[0m\u001b[1;33m\u001b[0m\u001b[0m\n",
      "\u001b[1;31mTypeError\u001b[0m: can't convert complex to float"
     ]
    }
   ],
   "source": [
    "a = 5.45 + 3j\n",
    "print(f'Value of a is {a} and its data type is {type(a)}')\n",
    "\n",
    "a = float(a)  \n",
    "print(f'Value of a is {a} and its data type is {type(a)}')"
   ]
  },
  {
   "cell_type": "markdown",
   "metadata": {},
   "source": [
    "# String"
   ]
  },
  {
   "cell_type": "raw",
   "metadata": {},
   "source": [
    "Collection of char surrounded by single, double and triple quotes\n",
    "We can not use single quote inside single quotes\n",
    "We Can not use double quote inside double quotes"
   ]
  },
  {
   "cell_type": "code",
   "execution_count": 2,
   "metadata": {},
   "outputs": [
    {
     "name": "stdout",
     "output_type": "stream",
     "text": [
      "Python's development\n"
     ]
    }
   ],
   "source": [
    "a = \"Python's development\"\n",
    "print(a)"
   ]
  },
  {
   "cell_type": "code",
   "execution_count": 70,
   "metadata": {},
   "outputs": [
    {
     "name": "stdout",
     "output_type": "stream",
     "text": [
      "Pythonclass\n"
     ]
    }
   ],
   "source": [
    "a = 'Python' + 'class'\n",
    "print(a)"
   ]
  },
  {
   "cell_type": "code",
   "execution_count": 44,
   "metadata": {},
   "outputs": [
    {
     "name": "stdout",
     "output_type": "stream",
     "text": [
      "Python's  Class\n"
     ]
    }
   ],
   "source": [
    "a = \"\"\"Python's  Class\"\"\"\n",
    "print(a)"
   ]
  },
  {
   "cell_type": "code",
   "execution_count": 45,
   "metadata": {},
   "outputs": [
    {
     "name": "stdout",
     "output_type": "stream",
     "text": [
      "Python's  Class\n"
     ]
    }
   ],
   "source": [
    "a = \"\"\"Python's  Class\"\"\"\n",
    "print(a)"
   ]
  },
  {
   "cell_type": "code",
   "execution_count": 46,
   "metadata": {},
   "outputs": [
    {
     "name": "stdout",
     "output_type": "stream",
     "text": [
      "Value of a is Python Class and its data type is <class 'str'>\n",
      "Value of b is Python Class and its data type is <class 'str'>\n",
      "Value of c is Python Class and its data type is <class 'str'>\n"
     ]
    }
   ],
   "source": [
    "a = 'Python Class'\n",
    "b = \"Python Class\"\n",
    "c = \"\"\"Python Class\"\"\"\n",
    "\n",
    "print(f'Value of a is {a} and its data type is {type(a)}')\n",
    "print(f'Value of b is {b} and its data type is {type(b)}')\n",
    "print(f'Value of c is {c} and its data type is {type(c)}')"
   ]
  },
  {
   "cell_type": "markdown",
   "metadata": {},
   "source": [
    "# Convert int to string"
   ]
  },
  {
   "cell_type": "code",
   "execution_count": 50,
   "metadata": {},
   "outputs": [
    {
     "name": "stdout",
     "output_type": "stream",
     "text": [
      "Value of a is 100 and its data type is <class 'int'>\n",
      "Value of a is 100 and its data type is <class 'str'>\n"
     ]
    },
    {
     "data": {
      "text/plain": [
       "'100'"
      ]
     },
     "execution_count": 50,
     "metadata": {},
     "output_type": "execute_result"
    }
   ],
   "source": [
    "a = 100\n",
    "print(f'Value of a is {a} and its data type is {type(a)}')\n",
    "\n",
    "a = str(a)\n",
    "print(f'Value of a is {a} and its data type is {type(a)}')\n",
    "a"
   ]
  },
  {
   "cell_type": "code",
   "execution_count": 52,
   "metadata": {},
   "outputs": [
    {
     "name": "stdout",
     "output_type": "stream",
     "text": [
      "Value of a is 1456789 and its data type is <class 'int'>\n",
      "Value of a is 1456789 and its data type is <class 'str'>\n"
     ]
    },
    {
     "data": {
      "text/plain": [
       "'1456789'"
      ]
     },
     "execution_count": 52,
     "metadata": {},
     "output_type": "execute_result"
    }
   ],
   "source": [
    "a = 1456789\n",
    "print(f'Value of a is {a} and its data type is {type(a)}')\n",
    "\n",
    "a = str(a)\n",
    "print(f'Value of a is {a} and its data type is {type(a)}')\n",
    "a"
   ]
  },
  {
   "cell_type": "markdown",
   "metadata": {},
   "source": [
    "### Float to str"
   ]
  },
  {
   "cell_type": "code",
   "execution_count": 54,
   "metadata": {},
   "outputs": [
    {
     "name": "stdout",
     "output_type": "stream",
     "text": [
      "Value of a is 14.56789 and its data type is <class 'float'>\n",
      "Value of a is 14.56789 and its data type is <class 'str'>\n"
     ]
    },
    {
     "data": {
      "text/plain": [
       "'14.56789'"
      ]
     },
     "execution_count": 54,
     "metadata": {},
     "output_type": "execute_result"
    }
   ],
   "source": [
    "a = 14.56789\n",
    "print(f'Value of a is {a} and its data type is {type(a)}')\n",
    "\n",
    "a = str(a)\n",
    "print(f'Value of a is {a} and its data type is {type(a)}')\n",
    "a"
   ]
  },
  {
   "cell_type": "markdown",
   "metadata": {},
   "source": [
    "### Str to int "
   ]
  },
  {
   "cell_type": "code",
   "execution_count": 56,
   "metadata": {},
   "outputs": [
    {
     "name": "stdout",
     "output_type": "stream",
     "text": [
      "Value of a is 500 and its data type is <class 'str'>\n",
      "Value of a is 500 and its data type is <class 'int'>\n"
     ]
    },
    {
     "data": {
      "text/plain": [
       "500"
      ]
     },
     "execution_count": 56,
     "metadata": {},
     "output_type": "execute_result"
    }
   ],
   "source": [
    "a = '500'  # String contain only digits\n",
    "\n",
    "print(f'Value of a is {a} and its data type is {type(a)}')\n",
    "\n",
    "a = int(a)\n",
    "print(f'Value of a is {a} and its data type is {type(a)}')\n",
    "a"
   ]
  },
  {
   "cell_type": "code",
   "execution_count": 58,
   "metadata": {},
   "outputs": [
    {
     "name": "stdout",
     "output_type": "stream",
     "text": [
      "Value of a is 500a and its data type is <class 'str'>\n"
     ]
    },
    {
     "ename": "ValueError",
     "evalue": "invalid literal for int() with base 10: '500a'",
     "output_type": "error",
     "traceback": [
      "\u001b[1;31m---------------------------------------------------------------------------\u001b[0m",
      "\u001b[1;31mValueError\u001b[0m                                Traceback (most recent call last)",
      "\u001b[1;32m<ipython-input-58-f0fc1fe6334f>\u001b[0m in \u001b[0;36m<module>\u001b[1;34m\u001b[0m\n\u001b[0;32m      3\u001b[0m \u001b[0mprint\u001b[0m\u001b[1;33m(\u001b[0m\u001b[1;34mf'Value of a is {a} and its data type is {type(a)}'\u001b[0m\u001b[1;33m)\u001b[0m\u001b[1;33m\u001b[0m\u001b[1;33m\u001b[0m\u001b[0m\n\u001b[0;32m      4\u001b[0m \u001b[1;33m\u001b[0m\u001b[0m\n\u001b[1;32m----> 5\u001b[1;33m \u001b[0ma\u001b[0m \u001b[1;33m=\u001b[0m \u001b[0mint\u001b[0m\u001b[1;33m(\u001b[0m\u001b[0ma\u001b[0m\u001b[1;33m)\u001b[0m\u001b[1;33m\u001b[0m\u001b[1;33m\u001b[0m\u001b[0m\n\u001b[0m\u001b[0;32m      6\u001b[0m \u001b[0mprint\u001b[0m\u001b[1;33m(\u001b[0m\u001b[1;34mf'Value of a is {a} and its data type is {type(a)}'\u001b[0m\u001b[1;33m)\u001b[0m\u001b[1;33m\u001b[0m\u001b[1;33m\u001b[0m\u001b[0m\n\u001b[0;32m      7\u001b[0m \u001b[0ma\u001b[0m\u001b[1;33m\u001b[0m\u001b[1;33m\u001b[0m\u001b[0m\n",
      "\u001b[1;31mValueError\u001b[0m: invalid literal for int() with base 10: '500a'"
     ]
    }
   ],
   "source": [
    "a = '500a'  # String contain only digits\n",
    "\n",
    "print(f'Value of a is {a} and its data type is {type(a)}')\n",
    "\n",
    "a = int(a)\n",
    "print(f'Value of a is {a} and its data type is {type(a)}')\n",
    "a"
   ]
  },
  {
   "cell_type": "code",
   "execution_count": 60,
   "metadata": {},
   "outputs": [
    {
     "name": "stdout",
     "output_type": "stream",
     "text": [
      "Value of a is  500  and its data type is <class 'str'>\n",
      "Value of a is 500 and its data type is <class 'int'>\n"
     ]
    },
    {
     "data": {
      "text/plain": [
       "500"
      ]
     },
     "execution_count": 60,
     "metadata": {},
     "output_type": "execute_result"
    }
   ],
   "source": [
    "a = ' 500 '  # String contain only digits\n",
    "\n",
    "print(f'Value of a is {a} and its data type is {type(a)}')\n",
    "\n",
    "a = int(a)\n",
    "print(f'Value of a is {a} and its data type is {type(a)}')\n",
    "a"
   ]
  },
  {
   "cell_type": "code",
   "execution_count": 62,
   "metadata": {},
   "outputs": [
    {
     "name": "stdout",
     "output_type": "stream",
     "text": [
      "Value of a is a 500  and its data type is <class 'str'>\n"
     ]
    },
    {
     "ename": "ValueError",
     "evalue": "invalid literal for int() with base 10: 'a 500 '",
     "output_type": "error",
     "traceback": [
      "\u001b[1;31m---------------------------------------------------------------------------\u001b[0m",
      "\u001b[1;31mValueError\u001b[0m                                Traceback (most recent call last)",
      "\u001b[1;32m<ipython-input-62-ffa7a3a5ec50>\u001b[0m in \u001b[0;36m<module>\u001b[1;34m\u001b[0m\n\u001b[0;32m      3\u001b[0m \u001b[0mprint\u001b[0m\u001b[1;33m(\u001b[0m\u001b[1;34mf'Value of a is {a} and its data type is {type(a)}'\u001b[0m\u001b[1;33m)\u001b[0m\u001b[1;33m\u001b[0m\u001b[1;33m\u001b[0m\u001b[0m\n\u001b[0;32m      4\u001b[0m \u001b[1;33m\u001b[0m\u001b[0m\n\u001b[1;32m----> 5\u001b[1;33m \u001b[0ma\u001b[0m \u001b[1;33m=\u001b[0m \u001b[0mint\u001b[0m\u001b[1;33m(\u001b[0m\u001b[0ma\u001b[0m\u001b[1;33m)\u001b[0m\u001b[1;33m\u001b[0m\u001b[1;33m\u001b[0m\u001b[0m\n\u001b[0m\u001b[0;32m      6\u001b[0m \u001b[0mprint\u001b[0m\u001b[1;33m(\u001b[0m\u001b[1;34mf'Value of a is {a} and its data type is {type(a)}'\u001b[0m\u001b[1;33m)\u001b[0m\u001b[1;33m\u001b[0m\u001b[1;33m\u001b[0m\u001b[0m\n\u001b[0;32m      7\u001b[0m \u001b[0ma\u001b[0m\u001b[1;33m\u001b[0m\u001b[1;33m\u001b[0m\u001b[0m\n",
      "\u001b[1;31mValueError\u001b[0m: invalid literal for int() with base 10: 'a 500 '"
     ]
    }
   ],
   "source": [
    "a = 'a 500 '  # String contain only digits\n",
    "\n",
    "print(f'Value of a is {a} and its data type is {type(a)}')\n",
    "\n",
    "a = int(a)\n",
    "print(f'Value of a is {a} and its data type is {type(a)}')\n",
    "a"
   ]
  },
  {
   "cell_type": "code",
   "execution_count": 68,
   "metadata": {},
   "outputs": [
    {
     "name": "stdout",
     "output_type": "stream",
     "text": [
      "Value of a is 50.50  and its data type is <class 'str'>\n",
      "Value of a is 50.5 and its data type is <class 'float'>\n"
     ]
    }
   ],
   "source": [
    "a = '50.50 '  # String contain only digits\n",
    "\n",
    "print(f'Value of a is {a} and its data type is {type(a)}')\n",
    "\n",
    "a = float(a)\n",
    "print('Value of a is {} and its data type is {}'.format(a,type(a)))  # f-string\n"
   ]
  }
 ],
 "metadata": {
  "kernelspec": {
   "display_name": "Python 3",
   "language": "python",
   "name": "python3"
  },
  "language_info": {
   "codemirror_mode": {
    "name": "ipython",
    "version": 3
   },
   "file_extension": ".py",
   "mimetype": "text/x-python",
   "name": "python",
   "nbconvert_exporter": "python",
   "pygments_lexer": "ipython3",
   "version": "3.8.0"
  }
 },
 "nbformat": 4,
 "nbformat_minor": 4
}
